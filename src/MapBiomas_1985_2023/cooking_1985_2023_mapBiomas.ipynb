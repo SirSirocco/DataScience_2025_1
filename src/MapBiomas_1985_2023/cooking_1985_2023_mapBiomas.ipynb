{
  "nbformat": 4,
  "nbformat_minor": 0,
  "metadata": {
    "colab": {
      "provenance": []
    },
    "kernelspec": {
      "name": "python3",
      "display_name": "Python 3"
    },
    "language_info": {
      "name": "python"
    }
  },
  "cells": [
    {
      "cell_type": "code",
      "execution_count": null,
      "metadata": {
        "id": "QxuRSvAD1K6N"
      },
      "outputs": [],
      "source": [
        "import pandas as pd\n",
        "import os\n",
        "from google.colab import files"
      ]
    },
    {
      "cell_type": "code",
      "source": [
        "\n",
        "# meses com numero e nome\n",
        "meses = {\n",
        "    \"Janeiro\": 1, \"Fevereiro\": 2, \"Março\": 3, \"Abril\": 4, \"Maio\": 5, \"Junho\": 6,\n",
        "    \"Julho\": 7, \"Agosto\": 8, \"Setembro\": 9, \"Outubro\": 10, \"Novembro\": 11, \"Dezembro\": 12\n",
        "}\n",
        "\n",
        "#pasta onde esta os arquivos\n",
        "pasta_atual = \"/content\"\n",
        "\n",
        "\n",
        "dfs = []\n",
        "\n",
        "# percorre todos os arquivos .csv no diretório atual\n",
        "for nome_arquivo in os.listdir(pasta_atual):\n",
        "    if nome_arquivo.endswith(\".csv\"):\n",
        "        estado = nome_arquivo.split()[0]  # Pega a sigla do estado do início do nome do arquivo\n",
        "        caminho_arquivo = os.path.join(pasta_atual, nome_arquivo)\n",
        "\n",
        "       #Lê o CSV e renomeia a primeira coluna para \"Classe\", se necessário\n",
        "        df = pd.read_csv(caminho_arquivo,  na_values=\"-\")\n",
        "\n",
        "        df_long = df.melt(id_vars=[\"Classe\"], var_name=\"_ano\", value_name=\"que_area_queimada\")\n",
        "        df_long[\"_mes\"] = df_long[\"Classe\"].map(meses)\n",
        "        df_long[\"_mes\"] = df_long[\"_mes\"].astype(int)\n",
        "        df_long[\"_estado\"] = estado\n",
        "\n",
        "        df_final = df_long[[\"_ano\", \"_mes\", \"_estado\", \"que_area_queimada\"]]\n",
        "        dfs.append(df_final)\n",
        "\n",
        "# Junta todos os dataframes\n",
        "df_total = pd.concat(dfs, ignore_index= True)\n",
        "print(df_total)\n",
        "\n"
      ],
      "metadata": {
        "colab": {
          "base_uri": "https://localhost:8080/"
        },
        "id": "NicLM3tG4xgb",
        "outputId": "13d11700-edc8-46a9-d052-39e70f8446cc"
      },
      "execution_count": null,
      "outputs": [
        {
          "output_type": "stream",
          "name": "stdout",
          "text": [
            "      _ano  _mes _estado  que_area_queimada\n",
            "0     1985     1      RR              20665\n",
            "1     1985     2      RR              31006\n",
            "2     1985     3      RR               8775\n",
            "3     1985     4      RR             365198\n",
            "4     1985     5      RR               7927\n",
            "...    ...   ...     ...                ...\n",
            "4207  2023     8      AM              97780\n",
            "4208  2023     9      AM             292708\n",
            "4209  2023    10      AM             301404\n",
            "4210  2023    11      AM             117669\n",
            "4211  2023    12      AM              68900\n",
            "\n",
            "[4212 rows x 4 columns]\n",
            "_ano                 0\n",
            "_mes                 0\n",
            "_estado              0\n",
            "que_area_queimada    0\n",
            "dtype: int64\n"
          ]
        }
      ]
    },
    {
      "cell_type": "code",
      "source": [
        "# Salva e exporta\n",
        "df_total.to_csv(\"dados_area_queimada_total_certo.csv\", index=False)\n",
        "files.download(\"dados_area_queimada_total_certo.csv\")"
      ],
      "metadata": {
        "colab": {
          "base_uri": "https://localhost:8080/",
          "height": 17
        },
        "id": "4h9uxdlW30NI",
        "outputId": "610d33f8-0adb-4159-a950-3463239c8e92"
      },
      "execution_count": null,
      "outputs": [
        {
          "output_type": "display_data",
          "data": {
            "text/plain": [
              "<IPython.core.display.Javascript object>"
            ],
            "application/javascript": [
              "\n",
              "    async function download(id, filename, size) {\n",
              "      if (!google.colab.kernel.accessAllowed) {\n",
              "        return;\n",
              "      }\n",
              "      const div = document.createElement('div');\n",
              "      const label = document.createElement('label');\n",
              "      label.textContent = `Downloading \"${filename}\": `;\n",
              "      div.appendChild(label);\n",
              "      const progress = document.createElement('progress');\n",
              "      progress.max = size;\n",
              "      div.appendChild(progress);\n",
              "      document.body.appendChild(div);\n",
              "\n",
              "      const buffers = [];\n",
              "      let downloaded = 0;\n",
              "\n",
              "      const channel = await google.colab.kernel.comms.open(id);\n",
              "      // Send a message to notify the kernel that we're ready.\n",
              "      channel.send({})\n",
              "\n",
              "      for await (const message of channel.messages) {\n",
              "        // Send a message to notify the kernel that we're ready.\n",
              "        channel.send({})\n",
              "        if (message.buffers) {\n",
              "          for (const buffer of message.buffers) {\n",
              "            buffers.push(buffer);\n",
              "            downloaded += buffer.byteLength;\n",
              "            progress.value = downloaded;\n",
              "          }\n",
              "        }\n",
              "      }\n",
              "      const blob = new Blob(buffers, {type: 'application/binary'});\n",
              "      const a = document.createElement('a');\n",
              "      a.href = window.URL.createObjectURL(blob);\n",
              "      a.download = filename;\n",
              "      div.appendChild(a);\n",
              "      a.click();\n",
              "      div.remove();\n",
              "    }\n",
              "  "
            ]
          },
          "metadata": {}
        },
        {
          "output_type": "display_data",
          "data": {
            "text/plain": [
              "<IPython.core.display.Javascript object>"
            ],
            "application/javascript": [
              "download(\"download_f03edf34-dfd7-4584-a7b7-13a957f85779\", \"dados_area_queimada_total_certo.csv\", 66799)"
            ]
          },
          "metadata": {}
        }
      ]
    }
  ]
}